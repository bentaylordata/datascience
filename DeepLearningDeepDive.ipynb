{
 "cells": [
  {
   "cell_type": "markdown",
   "metadata": {},
   "source": [
    "# Greatest Python Deep Learning Tutorial EVER...\n",
    "Theano introduction example with MNIST, babysteps, simple to understand, easy to follow. No tricks. Other python deep learning tutorial suffer from *\"death by wrappers\"* where they wrap so many libraries you begin to wonder what you are actually driving. Also, deep learning is a simple enough concept you should be able to comprehend it from the ground up. This tutorial was built by @bentaylordata. If you have any ideas to make it better place make updates.\n",
    "![caption](http://7-themes.com/data_images/out/37/6896773-amazing-wallpaper.jpg)"
   ]
  },
  {
   "cell_type": "markdown",
   "metadata": {},
   "source": [
    "## Let's Grab Some Data! Hello World Deep Learning Example ~ MNIST "
   ]
  },
  {
   "cell_type": "code",
   "execution_count": 50,
   "metadata": {
    "collapsed": false
   },
   "outputs": [],
   "source": [
    "from sklearn import datasets\n",
    "import numpy as np\n",
    "dataset = datasets.fetch_mldata(\"MNIST Original\")\n",
    "X = dataset.data\n",
    "Y = dataset.target"
   ]
  },
  {
   "cell_type": "code",
   "execution_count": 51,
   "metadata": {
    "collapsed": false
   },
   "outputs": [
    {
     "name": "stdout",
     "output_type": "stream",
     "text": [
      "(70000, 784)\n"
     ]
    }
   ],
   "source": [
    "print X.shape"
   ]
  },
  {
   "cell_type": "code",
   "execution_count": 52,
   "metadata": {
    "collapsed": false
   },
   "outputs": [
    {
     "name": "stdout",
     "output_type": "stream",
     "text": [
      "So we have 70000 hand written digit images. The images have been flattened where 28x28 = 784\n",
      "The labels are a vector  70000 long. With unique values: [ 0.  1.  2.  3.  4.  5.  6.  7.  8.  9.]\n"
     ]
    }
   ],
   "source": [
    "print \"So we have\",X.shape[0],\"hand written digit images. The images have been flattened where 28x28 =\",X.shape[1]\n",
    "print \"The labels are a vector \",len(Y),\"long. With unique values:\",np.unique(Y)"
   ]
  },
  {
   "cell_type": "markdown",
   "metadata": {},
   "source": [
    "# Concept Of A Tensor"
   ]
  },
  {
   "cell_type": "code",
   "execution_count": 53,
   "metadata": {
    "collapsed": false
   },
   "outputs": [
    {
     "name": "stdout",
     "output_type": "stream",
     "text": [
      "We have reshaped (70000, 784) into (70000, 1, 28, 28) . This is the format we want for convolutional nets\n"
     ]
    }
   ],
   "source": [
    "X_tensor = X.reshape((X.shape[0],1,28,28))\n",
    "print \"We have reshaped\",X.shape,\"into\",X_tensor.shape,\". This is the format we want for convolutional nets\""
   ]
  },
  {
   "cell_type": "markdown",
   "metadata": {},
   "source": [
    "Now Create Smart Train/Test Splits for training where we can train on **86%** of the data and test on **14%** using a 7 k-fold. "
   ]
  },
  {
   "cell_type": "code",
   "execution_count": 54,
   "metadata": {
    "collapsed": false
   },
   "outputs": [],
   "source": [
    "from sklearn.cross_validation import StratifiedKFold\n",
    "stratified_k_fold_splits = StratifiedKFold(Y, n_folds=7,shuffle=True)\n",
    "for train_index, test_index in stratified_k_fold_splits: break  #Just take for the first one"
   ]
  },
  {
   "cell_type": "code",
   "execution_count": 55,
   "metadata": {
    "collapsed": false
   },
   "outputs": [],
   "source": [
    "np.random.shuffle(train_index)     # Index shuffle not working? Force here\n",
    "np.random.shuffle(test_index)      # Index shuffle not working? Force here\n",
    "X_train, Y_train = X_tensor[train_index], Y[train_index]\n",
    "X_test, Y_test = X_tensor[test_index], Y[test_index]"
   ]
  },
  {
   "cell_type": "markdown",
   "metadata": {},
   "source": [
    "Now Create A Second Training Validation Set To Use For An Optimizations"
   ]
  },
  {
   "cell_type": "code",
   "execution_count": 56,
   "metadata": {
    "collapsed": false
   },
   "outputs": [],
   "source": [
    "stratified_k_fold_splits = StratifiedKFold(Y_train, n_folds=7,shuffle=True)\n",
    "for train_train_index, train_test_index in stratified_k_fold_splits: break  #Just take for the first one\n",
    "X_train_train, Y_train_train = X_tensor[train_index][train_train_index], Y[train_index][train_train_index]\n",
    "X_train_test, Y_train_test = X_tensor[train_index][train_test_index], Y[train_index][train_test_index]"
   ]
  },
  {
   "cell_type": "code",
   "execution_count": 57,
   "metadata": {
    "collapsed": false
   },
   "outputs": [
    {
     "name": "stdout",
     "output_type": "stream",
     "text": [
      "Our training set is: (59996, 1, 28, 28)\n",
      "     Our training (train) set is: (51422, 1, 28, 28)\n",
      "     Our training (test) set is: (8574, 1, 28, 28)\n",
      "Our testing set is: (10004, 1, 28, 28)\n"
     ]
    }
   ],
   "source": [
    "print \"Our training set is:\",X_train.shape\n",
    "print \"     Our training (train) set is:\",X_train_train.shape\n",
    "print \"     Our training (test) set is:\",X_train_test.shape\n",
    "print \"Our testing set is:\",X_test.shape"
   ]
  },
  {
   "cell_type": "code",
   "execution_count": 58,
   "metadata": {
    "collapsed": true
   },
   "outputs": [],
   "source": [
    "def to_categorical(y, nb_classes=None):\n",
    "    '''Convert class vector (integers from 0 to nb_classes)\n",
    "    to binary class matrix, for use with categorical_crossentropy\n",
    "    '''\n",
    "    y = np.asarray(y, dtype='int32')\n",
    "    if not nb_classes:\n",
    "        nb_classes = np.max(y)+1\n",
    "    Y = np.zeros((len(y), nb_classes))\n",
    "    for i in range(len(y)):\n",
    "        Y[i, y[i]] = 1.\n",
    "    return Y"
   ]
  },
  {
   "cell_type": "code",
   "execution_count": 59,
   "metadata": {
    "collapsed": false
   },
   "outputs": [
    {
     "name": "stdout",
     "output_type": "stream",
     "text": [
      "(59996, 10)\n"
     ]
    }
   ],
   "source": [
    "Y_train = to_categorical(Y_train)                 # Convert Ys to matrix onehotencoded format for training\n",
    "Y_test = to_categorical(Y_test)\n",
    "Y_train_train = to_categorical(Y_train_train)\n",
    "Y_train_test = to_categorical(Y_train_test)\n",
    "print Y_train.shape"
   ]
  },
  {
   "cell_type": "code",
   "execution_count": 60,
   "metadata": {
    "collapsed": false
   },
   "outputs": [
    {
     "data": {
      "text/plain": [
       "array([[ 0.,  1.,  0.,  0.,  0.,  0.,  0.,  0.,  0.,  0.],\n",
       "       [ 1.,  0.,  0.,  0.,  0.,  0.,  0.,  0.,  0.,  0.]])"
      ]
     },
     "execution_count": 60,
     "metadata": {},
     "output_type": "execute_result"
    }
   ],
   "source": [
    "Y_train[0:2,:]"
   ]
  },
  {
   "cell_type": "markdown",
   "metadata": {},
   "source": [
    "## Data Set Preview, what are we actually doing?\n",
    "When dealing with image data it is always nice to preview it to see if you have messed up on the reshape, tranpose, etc... For the MNIST hand written dataset lets take a look at our numbers."
   ]
  },
  {
   "cell_type": "code",
   "execution_count": 61,
   "metadata": {
    "collapsed": false
   },
   "outputs": [
    {
     "data": {
      "text/plain": [
       "(-0.5, 279.5, 27.5, -0.5)"
      ]
     },
     "execution_count": 61,
     "metadata": {},
     "output_type": "execute_result"
    },
    {
     "data": {
      "image/png": "[encoded data removed]",
      "text/plain": [
       "<matplotlib.figure.Figure at 0x7f6198e2c0d0>"
      ]
     },
     "metadata": {},
     "output_type": "display_data"
    }
   ],
   "source": [
    "import matplotlib.pyplot as plt\n",
    "%matplotlib inline \n",
    "for number in range(0,10):\n",
    "    if number==0:\n",
    "        image_stack = X_train[np.argmax(Y_train,axis=1)==number][0][0]\n",
    "    else:\n",
    "        image_stack = np.hstack((image_stack,X_train[np.argmax(Y_train,axis=1)==number][0][0]))\n",
    "fig=plt.gcf()\n",
    "fig.set_size_inches(10,10)\n",
    "plt.imshow(image_stack,cmap=plt.get_cmap('gray_r'))\n",
    "plt.axis('off')"
   ]
  },
  {
   "cell_type": "code",
   "execution_count": 62,
   "metadata": {
    "collapsed": false
   },
   "outputs": [
    {
     "name": "stdout",
     "output_type": "stream",
     "text": [
      "(59996, 1, 28, 28)\n",
      "(59996, 10)\n"
     ]
    }
   ],
   "source": [
    "print X_train.shape\n",
    "print Y_train.shape"
   ]
  },
  {
   "cell_type": "markdown",
   "metadata": {},
   "source": [
    "# Deep Learning Building Blocks\n",
    "Here are some simple building blocks for deep learning to help our model. "
   ]
  },
  {
   "cell_type": "code",
   "execution_count": 63,
   "metadata": {
    "collapsed": false
   },
   "outputs": [],
   "source": [
    "import theano\n",
    "import theano.tensor as T\n",
    "from theano.tensor.nnet.conv import conv2d\n",
    "from theano.tensor.signal.downsample import max_pool_2d\n",
    "from theano.sandbox.rng_mrg import MRG_RandomStreams as RandomStreams\n",
    "srng = RandomStreams()"
   ]
  },
  {
   "cell_type": "code",
   "execution_count": 64,
   "metadata": {
    "collapsed": true
   },
   "outputs": [],
   "source": [
    "def floatX(X):\n",
    "    return np.asarray(X, dtype=theano.config.floatX)\n",
    "\n",
    "def init_weights(shape):\n",
    "    return theano.shared(floatX(np.random.randn(*shape) * 0.01))\n",
    "\n",
    "def rectify(X):\n",
    "    return T.maximum(X, 0.)\n",
    "\n",
    "def softmax(X):\n",
    "    e_x = T.exp(X - X.max(axis=1).dimshuffle(0, 'x'))\n",
    "    return e_x / e_x.sum(axis=1).dimshuffle(0, 'x')\n",
    "\n",
    "def dropout(X, p=0.):\n",
    "    if p > 0:\n",
    "        retain_prob = 1 - p\n",
    "        X *= srng.binomial(X.shape, p=retain_prob, dtype=theano.config.floatX)\n",
    "        X /= retain_prob\n",
    "    return X"
   ]
  },
  {
   "cell_type": "code",
   "execution_count": 65,
   "metadata": {
    "collapsed": true
   },
   "outputs": [],
   "source": [
    "def sgd(cost, params, lr=0.05, momentum = 0.9):         # Stochastic gradient decent\n",
    "    grads = T.grad(cost=cost, wrt=params)\n",
    "    updates = []\n",
    "    for p, g in zip(params, grads):\n",
    "        acc = theano.shared(p.get_value() * 0.)\n",
    "        acc_new =  acc*momentum + (1.0-momentum)*g\n",
    "        updates.append([acc, acc_new])\n",
    "        updates.append([p, p - acc_new * lr])\n",
    "    return updates"
   ]
  },
  {
   "cell_type": "markdown",
   "metadata": {},
   "source": [
    "# Define / Build A Deep Learning Model\n",
    "Now we will design a deep learning model for the MNIST data set that uses convolutions, dropout, and maxpooling"
   ]
  },
  {
   "cell_type": "code",
   "execution_count": 66,
   "metadata": {
    "collapsed": true
   },
   "outputs": [],
   "source": [
    "def model(X, w, p_drop_conv, p_drop_hidden):\n",
    "    layer1 = rectify(conv2d(X, w[0], border_mode='full'))\n",
    "    layer1 = max_pool_2d(layer1, (2, 2),ignore_border=True)\n",
    "    layer1 = dropout(layer1, p_drop_conv)\n",
    "\n",
    "    layer2 = rectify(conv2d(layer1, w[1]))\n",
    "    layer2 = max_pool_2d(layer2, (2, 2),ignore_border=True)\n",
    "    layer2 = dropout(layer2, p_drop_conv)\n",
    "\n",
    "    layer3 = rectify(conv2d(layer2, w[2]))\n",
    "    layer3 = max_pool_2d(layer3, (2, 2),ignore_border=True)\n",
    "    layer3 = T.flatten(layer3, outdim=2)\n",
    "    layer3 = dropout(layer3, p_drop_conv)\n",
    "\n",
    "    layer4 = rectify(T.dot(layer3, w[3]))\n",
    "    layer4 = dropout(layer4, p_drop_hidden)\n",
    "\n",
    "    pyx = softmax(T.dot(layer4, w_o))\n",
    "    return pyx"
   ]
  },
  {
   "cell_type": "markdown",
   "metadata": {},
   "source": [
    "# Define Backend Theano Functions To Initialize And Do The Work"
   ]
  },
  {
   "cell_type": "code",
   "execution_count": 67,
   "metadata": {
    "collapsed": false
   },
   "outputs": [],
   "source": [
    "trX=floatX(X_train)/255.0\n",
    "trY=floatX(Y_train)\n",
    "teX=floatX(X_test)/255.0\n",
    "teY=floatX(Y_test)\n",
    "X = T.ftensor4()\n",
    "Y = T.fmatrix()"
   ]
  },
  {
   "cell_type": "code",
   "execution_count": 68,
   "metadata": {
    "collapsed": false
   },
   "outputs": [],
   "source": [
    "w = init_weights((32, 1, 3, 3))\n",
    "w2 = init_weights((64, 32, 3, 3))\n",
    "w3 = init_weights((128, 64, 3, 3))\n",
    "w4 = init_weights((512, 625))\n",
    "w_o = init_weights((625, 10))\n",
    "\n",
    "noise_py_x = model(X, [w, w2, w3, w4], 0.2, 0.5)\n",
    "py_x = model(X, [w, w2, w3, w4], 0., 0.)\n",
    "y_x = T.argmax(py_x, axis=1)\n",
    "\n",
    "params = [w, w2, w3, w4, w_o]\n",
    "cost = T.mean(T.nnet.categorical_crossentropy(noise_py_x, Y))\n",
    "updates = sgd(cost, params, lr=0.1)\n",
    "\n",
    "train = theano.function(inputs=[X, Y], outputs=cost, updates=updates, allow_input_downcast=True)\n",
    "predict = theano.function(inputs=[X], outputs=y_x, allow_input_downcast=True)"
   ]
  },
  {
   "cell_type": "code",
   "execution_count": 69,
   "metadata": {
    "collapsed": false
   },
   "outputs": [
    {
     "name": "stdout",
     "output_type": "stream",
     "text": [
      "Epoch: 0 Cost: 2.30258178711  Accuracy: 13.9244302279 percent\n",
      "Epoch: 1 Cost: 2.3025841713  Accuracy: 23.5105957617 percent\n",
      "Epoch: 2 Cost: 2.30256748199  Accuracy: 27.4390243902 percent\n",
      "Epoch: 3 Cost: 2.30256462097  Accuracy: 27.5489804078 percent\n",
      "Epoch: 4 Cost: 2.30254602432  Accuracy: 25.449820072 percent\n",
      "Epoch: 5 Cost: 2.30252218246  Accuracy: 21.2415033986 percent\n"
     ]
    }
   ],
   "source": [
    "for epoch in range(6):\n",
    "    for start, end in zip(range(0, len(trX), 128), range(128, len(trX), 128)):\n",
    "        epoch_cost = train(trX[start:end], trY[start:end])\n",
    "    print \"Epoch:\",epoch,\"Cost:\",epoch_cost,\" Accuracy:\",np.mean(np.argmax(teY, axis=1) == predict(teX))*100,\"percent\""
   ]
  },
  {
   "cell_type": "code",
   "execution_count": 70,
   "metadata": {
    "collapsed": true
   },
   "outputs": [],
   "source": [
    "def RMSprop(cost, params, lr=0.001, rho=0.9, epsilon=1e-6):\n",
    "    grads = T.grad(cost=cost, wrt=params)\n",
    "    updates = []\n",
    "    for p, g in zip(params, grads):\n",
    "        acc = theano.shared(p.get_value() * 0.)\n",
    "        acc_new = rho * acc + (1 - rho) * g ** 2\n",
    "        gradient_scaling = T.sqrt(acc_new + epsilon)\n",
    "        g = g / gradient_scaling\n",
    "        updates.append((acc, acc_new))\n",
    "        updates.append((p, p - lr * g))\n",
    "    return updates"
   ]
  },
  {
   "cell_type": "code",
   "execution_count": 71,
   "metadata": {
    "collapsed": false
   },
   "outputs": [],
   "source": [
    "w = init_weights((32, 1, 3, 3))\n",
    "w2 = init_weights((64, 32, 3, 3))\n",
    "w3 = init_weights((128, 64, 3, 3))\n",
    "w4 = init_weights((128 * 4, 625))\n",
    "w_o = init_weights((625, 10))\n",
    "\n",
    "updates = RMSprop(cost, params, lr=0.001)\n",
    "train = theano.function(inputs=[X, Y], outputs=cost, updates=updates, allow_input_downcast=True)"
   ]
  },
  {
   "cell_type": "code",
   "execution_count": 72,
   "metadata": {
    "collapsed": false
   },
   "outputs": [
    {
     "name": "stdout",
     "output_type": "stream",
     "text": [
      "Epoch: 0 Cost: 0.138572543859  Accuracy: 95.7616953219 percent\n",
      "Epoch: 1 Cost: 0.0726499184966  Accuracy: 97.7409036385 percent\n",
      "Epoch: 2 Cost: 0.0287853199989  Accuracy: 98.4806077569 percent\n",
      "Epoch: 3 Cost: 0.0341680794954  Accuracy: 98.7205117953 percent\n",
      "Epoch: 4 Cost: 0.0240500755608  Accuracy: 98.9204318273 percent\n",
      "Epoch: 5 Cost: 0.0267007853836  Accuracy: 98.9904038385 percent\n"
     ]
    }
   ],
   "source": [
    "for epoch in range(6):\n",
    "    for start, end in zip(range(0, len(trX), 128), range(128, len(trX), 128)):\n",
    "        epoch_cost = train(trX[start:end], trY[start:end])\n",
    "    print \"Epoch:\",epoch,\"Cost:\",epoch_cost,\" Accuracy:\",np.mean(np.argmax(teY, axis=1) == predict(teX))*100,\"percent\""
   ]
  },
  {
   "cell_type": "markdown",
   "metadata": {},
   "source": [
    "# Ok.... Now Lets Try A Theano Wrapper\n",
    "The great thing about Theano is you can understand EVERYTHING. There are some simple wrappers above Theano that make\n",
    "this process easier and offer more tools. My favorite is Keras.io. Check it out. "
   ]
  },
  {
   "cell_type": "code",
   "execution_count": 73,
   "metadata": {
    "collapsed": false
   },
   "outputs": [],
   "source": [
    "import sys,os\n",
    "sys.path.insert(0, \"/home/ubuntu/keras\")\n",
    "from keras.datasets import mnist\n",
    "from keras.models import Sequential\n",
    "from keras.layers.core import Dense, Dropout, Activation, Flatten\n",
    "from keras.layers.convolutional import Convolution2D, MaxPooling2D"
   ]
  },
  {
   "cell_type": "code",
   "execution_count": 76,
   "metadata": {
    "collapsed": false
   },
   "outputs": [],
   "source": [
    "def define_model(optimizer_algo):\n",
    "    model = Sequential()\n",
    "\n",
    "    model.add(Convolution2D(32, 1, 3, 3,border_mode='full'))\n",
    "    model.add(Activation('relu'))\n",
    "    model.add(MaxPooling2D((2, 2)))\n",
    "    model.add(Dropout(0.2))\n",
    "\n",
    "    model.add(Convolution2D(64, 32, 3, 3))\n",
    "    model.add(Activation('relu'))\n",
    "    model.add(MaxPooling2D((2, 2)))\n",
    "    model.add(Dropout(0.2))\n",
    "\n",
    "    model.add(Convolution2D(128, 64, 3, 3))\n",
    "    model.add(Activation('relu'))\n",
    "    model.add(MaxPooling2D((2, 2)))\n",
    "\n",
    "    model.add(Flatten())\n",
    "    model.add(Dense(128*4,625))\n",
    "    model.add(Activation('relu'))\n",
    "    model.add(Dropout(0.5))\n",
    "    model.add(Dense(625,10))\n",
    "    model.add(Activation('softmax'))\n",
    "\n",
    "    model.compile(loss='categorical_crossentropy', optimizer=optimizer_algo)\n",
    "    return model"
   ]
  },
  {
   "cell_type": "code",
   "execution_count": 77,
   "metadata": {
    "collapsed": false
   },
   "outputs": [
    {
     "name": "stdout",
     "output_type": "stream",
     "text": [
      "Train on 59996 samples, validate on 10004 samples\n",
      "Epoch 1/6\n",
      "59996/59996 [==============================] - 10s - loss: 0.3411 - acc: 0.8891 - val_loss: 0.0843 - val_acc: 0.9742\n",
      "Epoch 2/6\n",
      "59996/59996 [==============================] - 10s - loss: 0.0814 - acc: 0.9742 - val_loss: 0.0480 - val_acc: 0.9857\n",
      "Epoch 3/6\n",
      "59996/59996 [==============================] - 10s - loss: 0.0566 - acc: 0.9830 - val_loss: 0.0483 - val_acc: 0.9855\n",
      "Epoch 4/6\n",
      "59996/59996 [==============================] - 10s - loss: 0.0437 - acc: 0.9857 - val_loss: 0.0360 - val_acc: 0.9891\n",
      "Epoch 5/6\n",
      "59996/59996 [==============================] - 10s - loss: 0.0366 - acc: 0.9881 - val_loss: 0.0311 - val_acc: 0.9908\n",
      "Epoch 6/6\n",
      "59996/59996 [==============================] - 10s - loss: 0.0332 - acc: 0.9890 - val_loss: 0.0270 - val_acc: 0.9925\n"
     ]
    }
   ],
   "source": [
    "model = define_model('RMSprop')\n",
    "log_fit1 = model.fit(trX, trY, \n",
    "                    batch_size=128, \n",
    "                    nb_epoch=6, \n",
    "                    show_accuracy=True, \n",
    "                    verbose=1, \n",
    "                    validation_data=(teX, teY))"
   ]
  },
  {
   "cell_type": "code",
   "execution_count": 78,
   "metadata": {
    "collapsed": false
   },
   "outputs": [
    {
     "name": "stdout",
     "output_type": "stream",
     "text": [
      "Train on 59996 samples, validate on 10004 samples\n",
      "Epoch 1/6\n",
      "59996/59996 [==============================] - 10s - loss: 0.2848 - acc: 0.9086 - val_loss: 0.0724 - val_acc: 0.9782\n",
      "Epoch 2/6\n",
      "59996/59996 [==============================] - 10s - loss: 0.0698 - acc: 0.9780 - val_loss: 0.0434 - val_acc: 0.9874\n",
      "Epoch 3/6\n",
      "59996/59996 [==============================] - 10s - loss: 0.0501 - acc: 0.9840 - val_loss: 0.0424 - val_acc: 0.9875\n",
      "Epoch 4/6\n",
      "59996/59996 [==============================] - 10s - loss: 0.0403 - acc: 0.9875 - val_loss: 0.0300 - val_acc: 0.9909\n",
      "Epoch 5/6\n",
      "59996/59996 [==============================] - 10s - loss: 0.0349 - acc: 0.9888 - val_loss: 0.0314 - val_acc: 0.9903\n",
      "Epoch 6/6\n",
      "59996/59996 [==============================] - 10s - loss: 0.0283 - acc: 0.9906 - val_loss: 0.0277 - val_acc: 0.9923\n"
     ]
    }
   ],
   "source": [
    "model = define_model('adam')\n",
    "log_fit2 = model.fit(trX, trY, \n",
    "                    batch_size=128, \n",
    "                    nb_epoch=6, \n",
    "                    show_accuracy=True, \n",
    "                    verbose=1, \n",
    "                    validation_data=(teX, teY))"
   ]
  },
  {
   "cell_type": "code",
   "execution_count": 79,
   "metadata": {
    "collapsed": false
   },
   "outputs": [
    {
     "name": "stdout",
     "output_type": "stream",
     "text": [
      "Train on 59996 samples, validate on 10004 samples\n",
      "Epoch 1/6\n",
      "59996/59996 [==============================] - 10s - loss: 2.1071 - acc: 0.2961 - val_loss: 1.4942 - val_acc: 0.7422\n",
      "Epoch 2/6\n",
      "59996/59996 [==============================] - 10s - loss: 0.9358 - acc: 0.7055 - val_loss: 0.4798 - val_acc: 0.8649\n",
      "Epoch 3/6\n",
      "59996/59996 [==============================] - 10s - loss: 0.5212 - acc: 0.8345 - val_loss: 0.3159 - val_acc: 0.9088\n",
      "Epoch 4/6\n",
      "59996/59996 [==============================] - 10s - loss: 0.3863 - acc: 0.8784 - val_loss: 0.2343 - val_acc: 0.9306\n",
      "Epoch 5/6\n",
      "59996/59996 [==============================] - 10s - loss: 0.3168 - acc: 0.8998 - val_loss: 0.1934 - val_acc: 0.9430\n",
      "Epoch 6/6\n",
      "59996/59996 [==============================] - 10s - loss: 0.2705 - acc: 0.9147 - val_loss: 0.1662 - val_acc: 0.9514\n"
     ]
    }
   ],
   "source": [
    "model = define_model('sgd')\n",
    "log_fit3 = model.fit(trX, trY, \n",
    "                    batch_size=128, \n",
    "                    nb_epoch=6, \n",
    "                    show_accuracy=True, \n",
    "                    verbose=1, \n",
    "                    validation_data=(teX, teY))"
   ]
  },
  {
   "cell_type": "code",
   "execution_count": 80,
   "metadata": {
    "collapsed": false
   },
   "outputs": [
    {
     "data": {
      "text/plain": [
       "<matplotlib.legend.Legend at 0x7f61669f5e90>"
      ]
     },
     "execution_count": 80,
     "metadata": {},
     "output_type": "execute_result"
    },
    {
     "data": {
      "image/png": "[encoded data removed]",
      "text/plain": [
       "<matplotlib.figure.Figure at 0x7f61552acf10>"
      ]
     },
     "metadata": {},
     "output_type": "display_data"
    }
   ],
   "source": [
    "plt.plot(log_fit1.history['val_acc'],'o-',label='RMSprop')\n",
    "plt.plot(log_fit2.history['val_acc'],'o-',label='Adam')\n",
    "plt.plot(log_fit3.history['val_acc'],'o-',label='SGD')\n",
    "plt.legend(loc=0)"
   ]
  },
  {
   "cell_type": "markdown",
   "metadata": {},
   "source": [
    "# Data Augmentation\n",
    "Data augmentation can really help make your models more robust. This helps boost accuracy in most cases"
   ]
  },
  {
   "cell_type": "code",
   "execution_count": 81,
   "metadata": {
    "collapsed": true
   },
   "outputs": [],
   "source": [
    "from keras.preprocessing.image import ImageDataGenerator\n",
    "from keras.utils import generic_utils\n",
    "from keras.datasets import cifar10"
   ]
  },
  {
   "cell_type": "code",
   "execution_count": 82,
   "metadata": {
    "collapsed": false
   },
   "outputs": [],
   "source": [
    "(x_train, y_train), (x_test, y_test) = cifar10.load_data()"
   ]
  },
  {
   "cell_type": "code",
   "execution_count": 90,
   "metadata": {
    "collapsed": false
   },
   "outputs": [
    {
     "name": "stdout",
     "output_type": "stream",
     "text": [
      "('X_train shape:', (50000, 3, 32, 32))\n",
      "(50000, 'train samples')\n",
      "(10000, 'test samples')\n"
     ]
    }
   ],
   "source": [
    "print('X_train shape:', x_train.shape)\n",
    "print(x_train.shape[0], 'train samples')\n",
    "print(x_test.shape[0], 'test samples')\n",
    "\n",
    "# convert class vectors to binary class matrices\n",
    "y_train = to_categorical(y_train, 10)\n",
    "y_test = to_categorical(y_test, 10)"
   ]
  },
  {
   "cell_type": "code",
   "execution_count": 91,
   "metadata": {
    "collapsed": true
   },
   "outputs": [],
   "source": [
    "def define_color_model(optimizer_algo):\n",
    "    model = Sequential()\n",
    "\n",
    "    model.add(Convolution2D(32, 3, 3, 3,border_mode='full'))\n",
    "    model.add(Activation('relu'))\n",
    "    model.add(MaxPooling2D((2, 2)))\n",
    "    model.add(Dropout(0.2))\n",
    "\n",
    "    model.add(Convolution2D(64, 32, 3, 3))\n",
    "    model.add(Activation('relu'))\n",
    "    model.add(MaxPooling2D((2, 2)))\n",
    "    model.add(Dropout(0.2))\n",
    "\n",
    "    model.add(Convolution2D(128, 64, 3, 3))\n",
    "    model.add(Activation('relu'))\n",
    "    model.add(MaxPooling2D((2, 2)))\n",
    "\n",
    "    model.add(Flatten())\n",
    "    model.add(Dense(128*4,625))\n",
    "    model.add(Activation('relu'))\n",
    "    model.add(Dropout(0.5))\n",
    "    model.add(Dense(625,10))\n",
    "    model.add(Activation('softmax'))\n",
    "\n",
    "    model.compile(loss='categorical_crossentropy', optimizer=optimizer_algo)\n",
    "    return model"
   ]
  },
  {
   "cell_type": "code",
   "execution_count": 92,
   "metadata": {
    "collapsed": true
   },
   "outputs": [],
   "source": [
    "model = define_color_model('adam')"
   ]
  },
  {
   "cell_type": "code",
   "execution_count": 86,
   "metadata": {
    "collapsed": false
   },
   "outputs": [
    {
     "data": {
      "text/plain": [
       "(-0.5, 95.5, 31.5, -0.5)"
      ]
     },
     "execution_count": 86,
     "metadata": {},
     "output_type": "execute_result"
    },
    {
     "data": {
      "image/png": "[encoded data removed]",
      "text/plain": [
       "<matplotlib.figure.Figure at 0x7f617111c890>"
      ]
     },
     "metadata": {},
     "output_type": "display_data"
    }
   ],
   "source": [
    "fig=plt.gcf()\n",
    "fig.set_size_inches(3,1)\n",
    "im1=np.array(np.transpose(x_train[0],axes=[1,2,0]))\n",
    "im2=np.array(np.transpose(x_train[1],axes=[1,2,0]))\n",
    "im3=np.array(np.transpose(x_train[2],axes=[1,2,0]))\n",
    "plt.imshow(np.hstack((im1,im2,im3)))\n",
    "plt.axis(\"off\")"
   ]
  },
  {
   "cell_type": "code",
   "execution_count": 87,
   "metadata": {
    "collapsed": true
   },
   "outputs": [],
   "source": [
    "x_train = x_train.astype(\"float32\")\n",
    "x_test = x_test.astype(\"float32\")\n",
    "x_train /= 255\n",
    "x_test /= 255"
   ]
  },
  {
   "cell_type": "code",
   "execution_count": 88,
   "metadata": {
    "collapsed": true
   },
   "outputs": [],
   "source": [
    "datagen = ImageDataGenerator(\n",
    "        featurewise_center=True,  # set input mean to 0 over the dataset\n",
    "        samplewise_center=False,  # set each sample mean to 0\n",
    "        featurewise_std_normalization=True,  # divide inputs by std of the dataset\n",
    "        samplewise_std_normalization=False,  # divide each input by its std\n",
    "        zca_whitening=False,  # apply ZCA whitening\n",
    "        rotation_range=20,  # randomly rotate images in the range (degrees, 0 to 180)\n",
    "        width_shift_range=0.2,  # randomly shift images horizontally (fraction of total width)\n",
    "        height_shift_range=0.2,  # randomly shift images vertically (fraction of total height)\n",
    "        horizontal_flip=True,  # randomly flip images\n",
    "        vertical_flip=False)  # randomly flip images\n",
    "\n",
    "# compute quantities required for featurewise normalization\n",
    "# (std, mean, and principal components if ZCA whitening is applied)\n",
    "datagen.fit(x_train)"
   ]
  },
  {
   "cell_type": "code",
   "execution_count": 95,
   "metadata": {
    "collapsed": false
   },
   "outputs": [
    {
     "name": "stdout",
     "output_type": "stream",
     "text": [
      "----------------------------------------\n",
      "('Epoch', 0)\n",
      "----------------------------------------\n",
      "Training...\n",
      "50000/50000 [==============================] - 219s - train loss: 1.3917   \n",
      "Testing...\n",
      "10000/10000 [==============================] - 41s - test loss: 1.3864    \n",
      "----------------------------------------\n",
      "('Epoch', 1)\n",
      "----------------------------------------\n",
      "Training...\n",
      " 1344/50000 [..............................] - ETA: 212s - train loss: 1.3863"
     ]
    },
    {
     "ename": "KeyboardInterrupt",
     "evalue": "",
     "output_type": "error",
     "traceback": [
      "\u001b[1;31m---------------------------------------------------------------------------\u001b[0m",
      "\u001b[1;31mKeyboardInterrupt\u001b[0m                         Traceback (most recent call last)",
      "\u001b[1;32m<ipython-input-95-70bbd921668a>\u001b[0m in \u001b[0;36m<module>\u001b[1;34m()\u001b[0m\n\u001b[0;32m      6\u001b[0m     \u001b[1;31m# batch train with realtime data augmentation\u001b[0m\u001b[1;33m\u001b[0m\u001b[1;33m\u001b[0m\u001b[0m\n\u001b[0;32m      7\u001b[0m     \u001b[0mprogbar\u001b[0m \u001b[1;33m=\u001b[0m \u001b[0mgeneric_utils\u001b[0m\u001b[1;33m.\u001b[0m\u001b[0mProgbar\u001b[0m\u001b[1;33m(\u001b[0m\u001b[0mx_train\u001b[0m\u001b[1;33m.\u001b[0m\u001b[0mshape\u001b[0m\u001b[1;33m[\u001b[0m\u001b[1;36m0\u001b[0m\u001b[1;33m]\u001b[0m\u001b[1;33m)\u001b[0m\u001b[1;33m\u001b[0m\u001b[0m\n\u001b[1;32m----> 8\u001b[1;33m     \u001b[1;32mfor\u001b[0m \u001b[0mx_batch\u001b[0m\u001b[1;33m,\u001b[0m \u001b[0my_batch\u001b[0m \u001b[1;32min\u001b[0m \u001b[0mdatagen\u001b[0m\u001b[1;33m.\u001b[0m\u001b[0mflow\u001b[0m\u001b[1;33m(\u001b[0m\u001b[0mx_train\u001b[0m\u001b[1;33m,\u001b[0m \u001b[0my_train\u001b[0m\u001b[1;33m)\u001b[0m\u001b[1;33m:\u001b[0m\u001b[1;33m\u001b[0m\u001b[0m\n\u001b[0m\u001b[0;32m      9\u001b[0m         \u001b[0mloss\u001b[0m \u001b[1;33m=\u001b[0m \u001b[0mmodel\u001b[0m\u001b[1;33m.\u001b[0m\u001b[0mtrain_on_batch\u001b[0m\u001b[1;33m(\u001b[0m\u001b[0mx_batch\u001b[0m\u001b[1;33m,\u001b[0m \u001b[0my_batch\u001b[0m\u001b[1;33m)\u001b[0m\u001b[1;33m\u001b[0m\u001b[0m\n\u001b[0;32m     10\u001b[0m         \u001b[0mprogbar\u001b[0m\u001b[1;33m.\u001b[0m\u001b[0madd\u001b[0m\u001b[1;33m(\u001b[0m\u001b[0mx_batch\u001b[0m\u001b[1;33m.\u001b[0m\u001b[0mshape\u001b[0m\u001b[1;33m[\u001b[0m\u001b[1;36m0\u001b[0m\u001b[1;33m]\u001b[0m\u001b[1;33m,\u001b[0m \u001b[0mvalues\u001b[0m\u001b[1;33m=\u001b[0m\u001b[1;33m[\u001b[0m\u001b[1;33m(\u001b[0m\u001b[1;34m\"train loss\"\u001b[0m\u001b[1;33m,\u001b[0m \u001b[0mloss\u001b[0m\u001b[1;33m)\u001b[0m\u001b[1;33m]\u001b[0m\u001b[1;33m)\u001b[0m\u001b[1;33m\u001b[0m\u001b[0m\n",
      "\u001b[1;32m/home/ubuntu/keras/keras/preprocessing/image.pyc\u001b[0m in \u001b[0;36mflow\u001b[1;34m(self, X, y, batch_size, shuffle, seed, save_to_dir, save_prefix, save_format)\u001b[0m\n\u001b[0;32m    165\u001b[0m             \u001b[1;32mfor\u001b[0m \u001b[0mi\u001b[0m \u001b[1;32min\u001b[0m \u001b[0mrange\u001b[0m\u001b[1;33m(\u001b[0m\u001b[0mnb_samples\u001b[0m\u001b[1;33m)\u001b[0m\u001b[1;33m:\u001b[0m\u001b[1;33m\u001b[0m\u001b[0m\n\u001b[0;32m    166\u001b[0m                 \u001b[0mx\u001b[0m \u001b[1;33m=\u001b[0m \u001b[0mX\u001b[0m\u001b[1;33m[\u001b[0m\u001b[0mb\u001b[0m\u001b[1;33m*\u001b[0m\u001b[0mbatch_size\u001b[0m\u001b[1;33m+\u001b[0m\u001b[0mi\u001b[0m\u001b[1;33m]\u001b[0m\u001b[1;33m\u001b[0m\u001b[0m\n\u001b[1;32m--> 167\u001b[1;33m                 \u001b[0mx\u001b[0m \u001b[1;33m=\u001b[0m \u001b[0mself\u001b[0m\u001b[1;33m.\u001b[0m\u001b[0mrandom_transform\u001b[0m\u001b[1;33m(\u001b[0m\u001b[0mx\u001b[0m\u001b[1;33m.\u001b[0m\u001b[0mastype\u001b[0m\u001b[1;33m(\u001b[0m\u001b[1;34m\"float32\"\u001b[0m\u001b[1;33m)\u001b[0m\u001b[1;33m)\u001b[0m\u001b[1;33m\u001b[0m\u001b[0m\n\u001b[0m\u001b[0;32m    168\u001b[0m                 \u001b[0mx\u001b[0m \u001b[1;33m=\u001b[0m \u001b[0mself\u001b[0m\u001b[1;33m.\u001b[0m\u001b[0mstandardize\u001b[0m\u001b[1;33m(\u001b[0m\u001b[0mx\u001b[0m\u001b[1;33m)\u001b[0m\u001b[1;33m\u001b[0m\u001b[0m\n\u001b[0;32m    169\u001b[0m                 \u001b[0mbX\u001b[0m\u001b[1;33m[\u001b[0m\u001b[0mi\u001b[0m\u001b[1;33m]\u001b[0m \u001b[1;33m=\u001b[0m \u001b[0mx\u001b[0m\u001b[1;33m\u001b[0m\u001b[0m\n",
      "\u001b[1;32m/home/ubuntu/keras/keras/preprocessing/image.pyc\u001b[0m in \u001b[0;36mrandom_transform\u001b[1;34m(self, x)\u001b[0m\n\u001b[0;32m    200\u001b[0m             \u001b[0mx\u001b[0m \u001b[1;33m=\u001b[0m \u001b[0mrandom_rotation\u001b[0m\u001b[1;33m(\u001b[0m\u001b[0mx\u001b[0m\u001b[1;33m,\u001b[0m \u001b[0mself\u001b[0m\u001b[1;33m.\u001b[0m\u001b[0mrotation_range\u001b[0m\u001b[1;33m)\u001b[0m\u001b[1;33m\u001b[0m\u001b[0m\n\u001b[0;32m    201\u001b[0m         \u001b[1;32mif\u001b[0m \u001b[0mself\u001b[0m\u001b[1;33m.\u001b[0m\u001b[0mwidth_shift_range\u001b[0m \u001b[1;32mor\u001b[0m \u001b[0mself\u001b[0m\u001b[1;33m.\u001b[0m\u001b[0mheight_shift_range\u001b[0m\u001b[1;33m:\u001b[0m\u001b[1;33m\u001b[0m\u001b[0m\n\u001b[1;32m--> 202\u001b[1;33m             \u001b[0mx\u001b[0m \u001b[1;33m=\u001b[0m \u001b[0mrandom_shift\u001b[0m\u001b[1;33m(\u001b[0m\u001b[0mx\u001b[0m\u001b[1;33m,\u001b[0m \u001b[0mself\u001b[0m\u001b[1;33m.\u001b[0m\u001b[0mwidth_shift_range\u001b[0m\u001b[1;33m,\u001b[0m \u001b[0mself\u001b[0m\u001b[1;33m.\u001b[0m\u001b[0mheight_shift_range\u001b[0m\u001b[1;33m)\u001b[0m\u001b[1;33m\u001b[0m\u001b[0m\n\u001b[0m\u001b[0;32m    203\u001b[0m         \u001b[1;32mif\u001b[0m \u001b[0mself\u001b[0m\u001b[1;33m.\u001b[0m\u001b[0mhorizontal_flip\u001b[0m\u001b[1;33m:\u001b[0m\u001b[1;33m\u001b[0m\u001b[0m\n\u001b[0;32m    204\u001b[0m             \u001b[1;32mif\u001b[0m \u001b[0mrandom\u001b[0m\u001b[1;33m.\u001b[0m\u001b[0mrandom\u001b[0m\u001b[1;33m(\u001b[0m\u001b[1;33m)\u001b[0m \u001b[1;33m<\u001b[0m \u001b[1;36m0.5\u001b[0m\u001b[1;33m:\u001b[0m\u001b[1;33m\u001b[0m\u001b[0m\n",
      "\u001b[1;32m/home/ubuntu/keras/keras/preprocessing/image.pyc\u001b[0m in \u001b[0;36mrandom_shift\u001b[1;34m(x, wrg, hrg, fill_mode, cval)\u001b[0m\n\u001b[0;32m     42\u001b[0m         \u001b[0mcrop_bottom_pixels\u001b[0m \u001b[1;33m=\u001b[0m \u001b[0mint\u001b[0m\u001b[1;33m(\u001b[0m\u001b[1;33m(\u001b[0m\u001b[1;36m1\u001b[0m\u001b[1;33m-\u001b[0m\u001b[0msplit\u001b[0m\u001b[1;33m)\u001b[0m\u001b[1;33m*\u001b[0m\u001b[0mcrop\u001b[0m\u001b[1;33m*\u001b[0m\u001b[0mx\u001b[0m\u001b[1;33m.\u001b[0m\u001b[0mshape\u001b[0m\u001b[1;33m[\u001b[0m\u001b[1;36m2\u001b[0m\u001b[1;33m]\u001b[0m\u001b[1;33m)\u001b[0m\u001b[1;33m\u001b[0m\u001b[0m\n\u001b[0;32m     43\u001b[0m \u001b[1;33m\u001b[0m\u001b[0m\n\u001b[1;32m---> 44\u001b[1;33m     \u001b[0mx\u001b[0m \u001b[1;33m=\u001b[0m \u001b[0mndimage\u001b[0m\u001b[1;33m.\u001b[0m\u001b[0minterpolation\u001b[0m\u001b[1;33m.\u001b[0m\u001b[0mshift\u001b[0m\u001b[1;33m(\u001b[0m\u001b[0mx\u001b[0m\u001b[1;33m,\u001b[0m \u001b[1;33m(\u001b[0m\u001b[1;36m0\u001b[0m\u001b[1;33m,\u001b[0m \u001b[0mcrop_left_pixels\u001b[0m\u001b[1;33m,\u001b[0m \u001b[0mcrop_top_pixels\u001b[0m\u001b[1;33m)\u001b[0m\u001b[1;33m,\u001b[0m \u001b[0mmode\u001b[0m\u001b[1;33m=\u001b[0m\u001b[0mfill_mode\u001b[0m\u001b[1;33m,\u001b[0m \u001b[0mcval\u001b[0m\u001b[1;33m=\u001b[0m\u001b[0mcval\u001b[0m\u001b[1;33m)\u001b[0m\u001b[1;33m\u001b[0m\u001b[0m\n\u001b[0m\u001b[0;32m     45\u001b[0m     \u001b[1;32mreturn\u001b[0m \u001b[0mx\u001b[0m\u001b[1;33m\u001b[0m\u001b[0m\n\u001b[0;32m     46\u001b[0m \u001b[1;33m\u001b[0m\u001b[0m\n",
      "\u001b[1;32m/home/ubuntu/anaconda/lib/python2.7/site-packages/scipy/ndimage/interpolation.pyc\u001b[0m in \u001b[0;36mshift\u001b[1;34m(input, shift, output, order, mode, cval, prefilter)\u001b[0m\n\u001b[0;32m    481\u001b[0m     \u001b[1;32mif\u001b[0m \u001b[1;32mnot\u001b[0m \u001b[0mshift\u001b[0m\u001b[1;33m.\u001b[0m\u001b[0mflags\u001b[0m\u001b[1;33m.\u001b[0m\u001b[0mcontiguous\u001b[0m\u001b[1;33m:\u001b[0m\u001b[1;33m\u001b[0m\u001b[0m\n\u001b[0;32m    482\u001b[0m         \u001b[0mshift\u001b[0m \u001b[1;33m=\u001b[0m \u001b[0mshift\u001b[0m\u001b[1;33m.\u001b[0m\u001b[0mcopy\u001b[0m\u001b[1;33m(\u001b[0m\u001b[1;33m)\u001b[0m\u001b[1;33m\u001b[0m\u001b[0m\n\u001b[1;32m--> 483\u001b[1;33m     \u001b[0m_nd_image\u001b[0m\u001b[1;33m.\u001b[0m\u001b[0mzoom_shift\u001b[0m\u001b[1;33m(\u001b[0m\u001b[0mfiltered\u001b[0m\u001b[1;33m,\u001b[0m \u001b[0mNone\u001b[0m\u001b[1;33m,\u001b[0m \u001b[0mshift\u001b[0m\u001b[1;33m,\u001b[0m \u001b[0moutput\u001b[0m\u001b[1;33m,\u001b[0m \u001b[0morder\u001b[0m\u001b[1;33m,\u001b[0m \u001b[0mmode\u001b[0m\u001b[1;33m,\u001b[0m \u001b[0mcval\u001b[0m\u001b[1;33m)\u001b[0m\u001b[1;33m\u001b[0m\u001b[0m\n\u001b[0m\u001b[0;32m    484\u001b[0m     \u001b[1;32mreturn\u001b[0m \u001b[0mreturn_value\u001b[0m\u001b[1;33m\u001b[0m\u001b[0m\n\u001b[0;32m    485\u001b[0m \u001b[1;33m\u001b[0m\u001b[0m\n",
      "\u001b[1;31mKeyboardInterrupt\u001b[0m: "
     ]
    }
   ],
   "source": [
    "for e in range(6):\n",
    "    print('-'*40)\n",
    "    print('Epoch', e)\n",
    "    print('-'*40)\n",
    "    print(\"Training...\")\n",
    "    # batch train with realtime data augmentation\n",
    "    progbar = generic_utils.Progbar(x_train.shape[0])\n",
    "    for x_batch, y_batch in datagen.flow(x_train, y_train):\n",
    "        loss = model.train_on_batch(x_batch, y_batch)\n",
    "        progbar.add(x_batch.shape[0], values=[(\"train loss\", loss)])\n",
    "\n",
    "    print(\"Testing...\")\n",
    "    # test time!\n",
    "    progbar = generic_utils.Progbar(x_test.shape[0])\n",
    "    for x_batch, y_batch in datagen.flow(x_test, y_test):\n",
    "        score = model.test_on_batch(x_batch, y_batch)\n",
    "        progbar.add(x_batch.shape[0], values=[(\"test loss\", score)])"
   ]
  },
  {
   "cell_type": "markdown",
   "metadata": {},
   "source": [
    "# Prevent GPU starving...\n",
    "Use your CPUs for preprocessing data augmentation batches"
   ]
  },
  {
   "cell_type": "code",
   "execution_count": 96,
   "metadata": {
    "collapsed": false
   },
   "outputs": [],
   "source": [
    "import os\n",
    "if not os.path.exists('buffering.py'):\n",
    "    print('Downloading buffering.py')\n",
    "    os.system('wget https://raw.githubusercontent.com/benanne/kaggle-ndsb/11a66cdbddee16c69514b9530a727df0ac6e136f/buffering.py')\n",
    "from buffering import buffered_gen_mp, buffered_gen_threaded"
   ]
  },
  {
   "cell_type": "code",
   "execution_count": null,
   "metadata": {
    "collapsed": false
   },
   "outputs": [],
   "source": [
    "for e in range(6):\n",
    "    print('-'*40)\n",
    "    print('Epoch', e)\n",
    "    print('-'*40)\n",
    "    print(\"Training...\")\n",
    "    # batch train with realtime data augmentation\n",
    "    progbar = generic_utils.Progbar(X_train.shape[0])\n",
    "    for X_batch, Y_batch in buffered_gen_threaded(datagen.flow(X_train, Y_train),buffer_size=8):\n",
    "        loss, acc = model.train_on_batch(X_batch, Y_batch, accuracy=True)\n",
    "        progbar.add(X_batch.shape[0], values=[(\"train loss\", loss),(\"train acc\", acc)])\n",
    "\n",
    "    print(\"Testing...\")\n",
    "    # test time!\n",
    "    progbar = generic_utils.Progbar(X_test.shape[0])\n",
    "    #p = np.array(np.zeros_like(Yp),dtype=float)\n",
    "    for X_batch, Y_batch in datagen.flow(X_test, Y_test):\n",
    "        #p = model.predict_on_batch(X_batch)\n",
    "        score, acc = model.test_on_batch(X_batch, Y_batch, accuracy=True)\n",
    "        progbar.add(X_batch.shape[0], values=[(\"test loss\", score),(\"test acc\", acc)])"
   ]
  },
  {
   "cell_type": "code",
   "execution_count": null,
   "metadata": {
    "collapsed": true
   },
   "outputs": [],
   "source": [
    "# More Advanced Activations, leaky, etc.."
   ]
  },
  {
   "cell_type": "code",
   "execution_count": null,
   "metadata": {
    "collapsed": true
   },
   "outputs": [],
   "source": [
    "# More Advanced Max Pooling, Fractional Max Pooling"
   ]
  },
  {
   "cell_type": "code",
   "execution_count": null,
   "metadata": {
    "collapsed": true
   },
   "outputs": [],
   "source": [
    "# More Advanced Data Augementation"
   ]
  },
  {
   "cell_type": "code",
   "execution_count": null,
   "metadata": {
    "collapsed": true
   },
   "outputs": [],
   "source": [
    "# Lessons Gotchas:\n",
    "    # Want sorted types in batches\n",
    "    # Weight initialization strategies\n",
    "    # Optimizations, key to success\n",
    "    # Don't Get Fooled By Imbalance Accuracies\n",
    "    # Don't CHEAT!! "
   ]
  },
  {
   "cell_type": "code",
   "execution_count": null,
   "metadata": {
    "collapsed": true
   },
   "outputs": [],
   "source": [
    "# Add genetic deep nets, or gradient boosting deep nets"
   ]
  },
  {
   "cell_type": "code",
   "execution_count": null,
   "metadata": {
    "collapsed": true
   },
   "outputs": [],
   "source": []
  }
 ],
 "metadata": {
  "kernelspec": {
   "display_name": "Python 2",
   "language": "python",
   "name": "python2"
  },
  "language_info": {
   "codemirror_mode": {
    "name": "ipython",
    "version": 2
   },
   "file_extension": ".py",
   "mimetype": "text/x-python",
   "name": "python",
   "nbconvert_exporter": "python",
   "pygments_lexer": "ipython2",
   "version": "2.7.10"
  }
 },
 "nbformat": 4,
 "nbformat_minor": 0
}
